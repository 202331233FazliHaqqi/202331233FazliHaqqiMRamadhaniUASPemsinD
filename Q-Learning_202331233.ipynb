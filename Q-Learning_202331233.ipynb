{
 "cells": [
  {
   "cell_type": "code",
   "execution_count": 1,
   "id": "0ab1039a-6170-4f55-9433-c0a745a4e3e2",
   "metadata": {},
   "outputs": [],
   "source": [
    "# Import library\n",
    "import numpy as np\n",
    "import pandas as pd"
   ]
  },
  {
   "cell_type": "code",
   "execution_count": 2,
   "id": "92d84ef9-e00a-4d5e-bc3c-50b6f14c31b9",
   "metadata": {},
   "outputs": [],
   "source": [
    "# Definisi states (kondisi permintaan) dan actions (strategi promosi)\n",
    "states = [\"low_demand\", \"medium_demand\", \"high_demand\"]\n",
    "actions = [\"discount\", \"bogo\", \"free_shipping\"]"
   ]
  },
  {
   "cell_type": "code",
   "execution_count": 3,
   "id": "9ab25b9b-a4ba-4565-8ac6-24b36b992d22",
   "metadata": {},
   "outputs": [],
   "source": [
    "# Reward Matrix (didefinisikan berdasarkan logika bisnis)\n",
    "reward_matrix = {\n",
    "    \"low_demand\": {\"discount\": 5, \"bogo\": 2, \"free_shipping\": 3},\n",
    "    \"medium_demand\": {\"discount\": 7, \"bogo\": 5, \"free_shipping\": 4},\n",
    "    \"high_demand\": {\"discount\": 10, \"bogo\": 8, \"free_shipping\": 6},\n",
    "}"
   ]
  },
  {
   "cell_type": "code",
   "execution_count": 4,
   "id": "1590d45f-9388-4603-b2cc-b3d0418008c1",
   "metadata": {},
   "outputs": [],
   "source": [
    "# Q-Table inisialisasi\n",
    "q_table = np.zeros((len(states), len(actions)))"
   ]
  },
  {
   "cell_type": "code",
   "execution_count": 5,
   "id": "1bfcc432-e1fd-418c-903b-cce8261b4f9e",
   "metadata": {},
   "outputs": [],
   "source": [
    "# Hyperparameter Q-Learning\n",
    "learning_rate = 0.1\n",
    "discount_factor = 0.9\n",
    "epsilon = 0.2  # Untuk epsilon-greedy exploration\n",
    "episodes = 1000  # Jumlah iterasi pelatihan"
   ]
  },
  {
   "cell_type": "code",
   "execution_count": 6,
   "id": "da059ef4-2397-4f4a-a7e7-0b9e237812e1",
   "metadata": {},
   "outputs": [],
   "source": [
    "# Fungsi untuk mendapatkan reward\n",
    "def get_reward(state, action):\n",
    "    return reward_matrix[state][action]"
   ]
  },
  {
   "cell_type": "code",
   "execution_count": 7,
   "id": "f6230861-30f4-40f1-861b-7a6380c0f277",
   "metadata": {},
   "outputs": [],
   "source": [
    "# Q-Learning Training Loop\n",
    "for episode in range(episodes):\n",
    "    # Pilih state awal secara acak\n",
    "    current_state_idx = np.random.choice(range(len(states)))\n",
    "\n",
    "    for step in range(10):  # Maksimum 10 langkah per episode\n",
    "        # Pilih aksi menggunakan epsilon-greedy\n",
    "        if np.random.rand() < epsilon:\n",
    "            action_idx = np.random.choice(range(len(actions)))  # Eksplorasi\n",
    "        else:\n",
    "            action_idx = np.argmax(q_table[current_state_idx])  # Eksploitasi\n",
    "\n",
    "        # Mendapatkan informasi state, action, dan reward\n",
    "        current_state = states[current_state_idx]\n",
    "        action = actions[action_idx]\n",
    "        reward = get_reward(current_state, action)\n",
    "\n",
    "        # Pilih state berikutnya secara acak (transisi sederhana)\n",
    "        next_state_idx = np.random.choice(range(len(states)))\n",
    "\n",
    "        # Update Q-Table menggunakan rumus Q-Learning\n",
    "        best_next_action = np.max(q_table[next_state_idx])\n",
    "        q_table[current_state_idx, action_idx] += learning_rate * (\n",
    "            reward + discount_factor * best_next_action - q_table[current_state_idx, action_idx]\n",
    "        )\n",
    "\n",
    "        # Perbarui state\n",
    "        current_state_idx = next_state_idx"
   ]
  },
  {
   "cell_type": "code",
   "execution_count": 8,
   "id": "053a480a-4661-40eb-87fa-d466fc2b5a1b",
   "metadata": {},
   "outputs": [
    {
     "name": "stdout",
     "output_type": "stream",
     "text": [
      "Q-Table setelah pelatihan:\n",
      "                discount       bogo  free_shipping\n",
      "low_demand     69.313701  67.168486      68.728335\n",
      "medium_demand  71.107282  70.217756      69.267841\n",
      "high_demand    74.596075  73.148202      71.185888\n"
     ]
    }
   ],
   "source": [
    "# Menampilkan Q-Table setelah pelatihan\n",
    "q_table_df = pd.DataFrame(q_table, index=states, columns=actions)\n",
    "print(\"Q-Table setelah pelatihan:\")\n",
    "print(q_table_df)"
   ]
  },
  {
   "cell_type": "code",
   "execution_count": 9,
   "id": "06edd1e4-a03d-4a17-bd59-b328a8019071",
   "metadata": {},
   "outputs": [
    {
     "name": "stdout",
     "output_type": "stream",
     "text": [
      "\n",
      "Strategi Promosi Optimal Berdasarkan Permintaan:\n",
      "- Jika low_demand: Pilih promosi 'discount'\n",
      "- Jika medium_demand: Pilih promosi 'discount'\n",
      "- Jika high_demand: Pilih promosi 'discount'\n"
     ]
    }
   ],
   "source": [
    "# Menentukan strategi promosi optimal\n",
    "print(\"\\nStrategi Promosi Optimal Berdasarkan Permintaan:\")\n",
    "for state_idx, state in enumerate(states):\n",
    "    best_action_idx = np.argmax(q_table[state_idx])\n",
    "    best_action = actions[best_action_idx]\n",
    "    print(f\"- Jika {state}: Pilih promosi '{best_action}'\")"
   ]
  },
  {
   "cell_type": "code",
   "execution_count": 10,
   "id": "da593e3c-9697-4937-a1b5-9ac3de22242e",
   "metadata": {},
   "outputs": [],
   "source": [
    "# Pengujian: Menggunakan Q-Table untuk memprediksi strategi terbaik\n",
    "def test_q_learning(state):\n",
    "    if state not in states:\n",
    "        raise ValueError(f\"State '{state}' tidak valid. Pilih dari {states}.\")\n",
    "    state_idx = states.index(state)\n",
    "    best_action_idx = np.argmax(q_table[state_idx])\n",
    "    best_action = actions[best_action_idx]\n",
    "    return best_action"
   ]
  },
  {
   "cell_type": "code",
   "execution_count": 11,
   "id": "f14e8ec5-0efa-4f52-b84b-ef931e404a44",
   "metadata": {},
   "outputs": [
    {
     "name": "stdout",
     "output_type": "stream",
     "text": [
      "\n",
      "Hasil Pengujian:\n",
      "- Jika low_demand: Strategi terbaik adalah 'discount'\n",
      "- Jika medium_demand: Strategi terbaik adalah 'discount'\n",
      "- Jika high_demand: Strategi terbaik adalah 'discount'\n"
     ]
    }
   ],
   "source": [
    "# Pengujian dengan beberapa contoh\n",
    "print(\"\\nHasil Pengujian:\")\n",
    "test_states = [\"low_demand\", \"medium_demand\", \"high_demand\"]\n",
    "for test_state in test_states:\n",
    "    predicted_action = test_q_learning(test_state)\n",
    "    print(f\"- Jika {test_state}: Strategi terbaik adalah '{predicted_action}'\")"
   ]
  },
  {
   "cell_type": "code",
   "execution_count": null,
   "id": "c479e672-d74e-4835-8c90-e4ddaf7e18dc",
   "metadata": {},
   "outputs": [],
   "source": []
  }
 ],
 "metadata": {
  "kernelspec": {
   "display_name": "Python 3 (ipykernel)",
   "language": "python",
   "name": "python3"
  },
  "language_info": {
   "codemirror_mode": {
    "name": "ipython",
    "version": 3
   },
   "file_extension": ".py",
   "mimetype": "text/x-python",
   "name": "python",
   "nbconvert_exporter": "python",
   "pygments_lexer": "ipython3",
   "version": "3.12.6"
  }
 },
 "nbformat": 4,
 "nbformat_minor": 5
}
